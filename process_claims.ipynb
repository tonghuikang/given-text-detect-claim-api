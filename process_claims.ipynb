{
 "cells": [
  {
   "cell_type": "code",
   "execution_count": 1,
   "metadata": {},
   "outputs": [],
   "source": [
    "# pipeline to process \"fact_checks_20180502.txt\" to file\n",
    "# the file is a python pickle containing the claims with its keywords and vectors"
   ]
  },
  {
   "cell_type": "code",
   "execution_count": 2,
   "metadata": {},
   "outputs": [
    {
     "name": "stderr",
     "output_type": "stream",
     "text": [
      "/anaconda3/envs/ner/lib/python3.6/importlib/_bootstrap.py:219: RuntimeWarning: numpy.dtype size changed, may indicate binary incompatibility. Expected 96, got 88\n",
      "  return f(*args, **kwds)\n",
      "/anaconda3/envs/ner/lib/python3.6/importlib/_bootstrap.py:219: RuntimeWarning: numpy.ufunc size changed, may indicate binary incompatibility. Expected 192, got 176\n",
      "  return f(*args, **kwds)\n",
      "/anaconda3/envs/ner/lib/python3.6/importlib/_bootstrap.py:219: RuntimeWarning: numpy.dtype size changed, may indicate binary incompatibility. Expected 96, got 88\n",
      "  return f(*args, **kwds)\n",
      "/anaconda3/envs/ner/lib/python3.6/importlib/_bootstrap.py:219: RuntimeWarning: numpy.ufunc size changed, may indicate binary incompatibility. Expected 192, got 176\n",
      "  return f(*args, **kwds)\n"
     ]
    }
   ],
   "source": [
    "from nlp_functions import *\n",
    "import json"
   ]
  },
  {
   "cell_type": "code",
   "execution_count": 3,
   "metadata": {},
   "outputs": [
    {
     "name": "stdout",
     "output_type": "stream",
     "text": [
      "No. of Claims: 8902\n"
     ]
    }
   ],
   "source": [
    "fc_path = \"fact_checks_20180502.txt\"\n",
    "\n",
    "with open(fc_path) as f:\n",
    "    fc_raw = f.readlines()\n",
    "    \n",
    "print(\"No. of Claims:\", len(fc_raw))"
   ]
  },
  {
   "cell_type": "code",
   "execution_count": 4,
   "metadata": {},
   "outputs": [],
   "source": [
    "random_point = 200\n",
    "\n",
    "claims_list = []\n",
    "\n",
    "for fc in fc_raw[random_point:random_point+200]:\n",
    "    fc = fc.strip(\"\\n\")\n",
    "    fc = fc.replace(\"</script>\", \"\").replace('<script type=\"application/ld+json\">', \"\")\n",
    "    fc = json.loads(fc)\n",
    "    claim = fc[\"claimReviewed\"]\n",
    "    claims_list.append(claim)"
   ]
  },
  {
   "cell_type": "code",
   "execution_count": 5,
   "metadata": {},
   "outputs": [
    {
     "name": "stdout",
     "output_type": "stream",
     "text": [
      "['An Ohio high school student was suspended for not participating in a walkout protest over gun violence.', 'Every cell in the human body is replaced every seven years.', \"If a $1.3 billion dollar Powerball jackpot were shared with every American, we'd all get $4 million each.\", 'On 11 September 2017, a worker at a Buffalo Wild Wings in Eastvale, California, turned down the volume on the national anthem before an NFL game, saying it was \"divisive.\"', 'An animated GIF shows a wind-blown stop sign hitting a weather reporter.', 'The creator of <em>Breaking Bad</em> announced the series will return for a sixth season.', 'Says Barack Obama \"acknowledged over 20 times\" that his administration’s Deferred Action for Parents of Americans \"immigration edict was a violation of law and the separation of powers.\"', '\"We moved 100 times as many people out of poverty as moved out when President (Ronald) Reagan was in office, with 40 percent more jobs.\"', \"Says a Washington Post reporter who broke news on Judge Roy Moore story has a criminal history of ‘faking.'\", '\"For the sixth straight year, we have secured record funding for K-12 and state universities.\"', 'A high school boy was shot by a police officer who mistook his saxophone for a gun.', 'Even among \"second and third generation\" Muslims in the United States, \"there\\'s no real assimilation.\"', '\"Because of #TaxReform, 4 million American workers have received raises and bonuses, and 90% of Americans are seeing bigger paychecks this month.\"', \"A photograph shows Donald Trump's solid gold toilet.\", \"A photograph shows a 30-foot wave from Hurricane Jose hitting Jennette's Pier in North Carolina.\", 'A Clinton Foundation cargo ship arriving from Africa was raided and found to contain \"illegal contraband\" in the form of foreign refugees, narcotics, weapons, and illegal fruits.', '\"The market is making this decision. The market has driven down the cost of coal, so you have companies going bankrupt.\"', 'Says that during President Barack Obama’s tenure, the United States has created \"15 million new jobs.\"', 'The International Astronomical Union (IAU) issued a press release stating that Pluto has been reclassified as a planet.', 'Photograph shows John F. Kennedy and Marilyn Monroe sharing an intimate moment.', '\"California is 49th out of 50 in the United States in per capita housing units. Only Utah can lay claim to being lowest in per capita production.\"', \"An image shows the heavily armed officers of United Airlines' Special Seating and Apparel Division.\", '\"Texas is home to more feral pigs than any other state — an estimated 50 percent to 75 percent of all feral swine in the nation.\"', \"Production of Coors Light beer has been halted due the brew's being contaminated with cocaine.\", '\"The FBI has become America\\'s secret police …  like the old KGB.\"', '“Trump has made his plans for immigrants and their families clear.”', 'George Soros was arrested and charged with hate crimes against America.', 'Retired Marine Col. Jeffery Powers penned an open letter to NFL commissioner Roger Goodell describing how he felt about players kneeling during the national anthem.', 'Says caravans of people are coming to cross the Mexico-U.S. border.', \"An FBI field agent quietly warned a Missouri sheriff's department that a propane bomb attack is expected around Christmas.\", 'Sarah Palin claimed in an interview that Jesus Christ celebrated Easter during His time on Earth.', '“I’ll tell you, we’re spending a lot of money on the inner cities. We’re fixing the inner cities. We’re doing far more than anybody’s done with respect to the inner cities. It’s a priority for me. And it’s very important.”', 'Austin was the \"site of the first mass shooting in the country.\"', '\"The United States ended slavery around the world, and maybe we should get some credit for that, too.\"', '\"When I was campaigning, I was talking about 18 and 20 years (when) wages effectively went down. Now, for the first time in a long time, they\\'re starting to go up for people.\"', 'Donald Trump threatened to deport Puerto Rican Broadway star Lin-Manuel Miranda.', 'Due to a recent court ruling, It is now legal for women in the U.S. to display their breasts in public.', '\"The fact is\" the Clinton Foundation has \"got about 80 percent in overhead and 20 percent of the money is actually getting into the places it should.\"', 'An \"alien mummy\" was recently unearthed in a pyramid, and scientists cannot explain its origins.', '\"Thousands of Americans have been killed by illegal immigrants.\"', '\"Clinton Foundation ordered to cease operations – Chelsea (Clinton) charged with fraud!\"', 'Says the proposed Texas Privacy Act \"is very different from\" North Carolina’s law \"in that theirs covers a whole list of things that the Texas Privacy Act does not.\"', '\"There\\'s no such thing as a lone wolf. ... That was a phrase invented by the last administration to make Americans stupid.\"', '\"One in three people who’s receiving treatment for (opioid) drug problems gets some help from Medicaid to pay for that.\"', '\"While (women) represent 47 percent of the overall work force, we only make up 23 percent of STEM-related occupations.\"', 'A photograph shows \"rainbow mountains\" in Peru.', 'The likeness of President Obama will be added to Mount Rushmore.', 'An orangutan raped an Irish tourist in Indonesia.', \"Macy's pulled funding from Planned Parenthood in December 2016 under pressure from anti-abortion groups.\", 'NC has the \"strictest anti-gerrymandering standards\" in the U.S.', '“Thanks to (North Carolina’s) governor and the legislature, the average teacher salary can barely support a family.\"', 'The company Harry & David had no concerns about advertising with Breitbart, saying they were \"neutral\" on issues of racism and anti-Semitism.', 'A recent uptick in Zika virus infections is linked to the introduction of a genetically modified mosquito farm in Brazil in 2012.', 'Says Sen. John McCain spent the July 4 weekend in Islamabad, Pakistan, selling \"F-16s and advanced weapons to the folks who harbored Osama bin Laden.\"', 'A rogue Amazon drone attempted to deliver a bomb to the White House.', 'Says Barack Obama complained that Democrats continue to ignore blacks except at election time.', 'A North Carolina provider of mental health services is named \"Nutz R Us.\"', 'Joint Chiefs of Staff Chairman Joseph Dunford announced his retirement with a fiery political resignation speech.', 'Mike Pence supported \"gay conversion\" therapy, including the use of electroshock therapy.', \"Vanna White was fired from her hostess role on 'Wheel of Fortune' due to her compulsive roulette playing.\", 'Says Charlie Crist \"stood there, over 3 African-American prisoners in chains, on their knees, on the side of the road. Saying that it was a great sight. Saying we needed to bring it to Florida. And you did this — whether you know or not — on the eve of Juneteenth, the day the African-American community celebrates the end of slavery.\"', 'A photograph shows two people with the darkest and lightest skin colors in the world.', 'Maxine Waters used a picture of the tide receding as proof of climate change.', \"The Obama administration has ordered $1 billion worth of 'disposable coffins' for use with 'FEMA camps.'\", 'Photograph shows crates in which calves are kept immobilized for six weeks before they are slaughtered for veal.', 'New York has \"the biggest outmigration of citizens of any state.\"', '\"State economic development dollars were used to support a project where goods were manufactured in China.\"', '\"Since 2012,\" city of Austin \"property taxes have gone up almost 30 percent while incomes have only risen 4 percent.\"', 'We investigated a number of hoaxes, rumors, and conspiracy theories associated with a mass shooting in Sutherland Springs, Texas on 5 November 2017.', 'A UFO was seen disappearing into a portal over Colorado.', 'The Fraternal Order of Police have retracted their endorsement of Donald Trump.', 'Bryan County, Ga., has \"corrupted voter rolls.\"', 'A photograph shows a Seattle Seahawks player burning an American flag.', 'There is a faceless, semi-human monster called Slenderman who stands eight feet tall, has tentacles for arms, stalks and eats small children, and communicates telepathically with his human servants, called \"proxies.\"', \"Two Maryland sheriff's deputies were shot and killed at a restaurant by a  vagrant.\", '\"It is not [a filibuster]. There will be a vote. If he doesn’t get 60 votes, he does not become Supreme Court justice.\"', 'Petitioners demanded singer Adele admit her success is due to \"white privilege\" and donate her wealth to the Black Lives Matter movement.', '\"Rauner made you pay for abortions in all nine months of pregnancy.\"', 'Voice analysis of Buzz Aldrin and other former astronauts revealed the existence of extraterrestrials.', 'A photograph shows Carl Sagan holding a sign reading \"No Billboards in Space.\"', 'A photograph shows the living conditions of a group of pigs.', 'A humorous essay seeks to describe how taxes work in the context of ten men splitting a dinner check.', 'Says diversity visa immigrants are not vetted.', 'First Lady Melania Trump banned the White House staff from receiving flu shots.', '\"We have large trade deficits ... with Canada.\"', 'A video clip shows martial arts star Bruce Lee expertly playing ping-pong using nunchaku rather than a paddle.', 'Activities by foreign governments had \"absolutely no effect on the outcome of this election.\"', 'A pilot refused to let President Obama onboard a helicopter after he failed to salute a Marine.', \"Caitlyn Jenner will pose nude on the cover of 'Sports Illustrated.'\", 'A megalodon capsized a South African charter vessel in April 2013.', 'Photograph shows Donald Trump supporters wearing \"Make America White Again\" shirts at a rally.', '\"Most Planned Parenthood settings are in urban areas, urban areas that have lots of OB/GYNs. ... The folks who don\\'t have access to those cancer screenings live in rural areas. They live in areas where there are not enough physicians.\"', 'The 9/11 terrorist attacks trapped a World Trade Center employee inadvertently revealing his adulterous activities to his wife.', 'The Clintons were forced to return an estimated $200,000 in furniture, china and art they \"stole\" from the White House.', 'Ted Cruz blamed God for his failed presidential campaign on Twitter.', '“According to the National Academy of Sciences, our current immigration system costs America’s taxpayers many billions of dollars a year.”', 'A bust of Abraham Lincoln was vandalized in Chicago in protest of confederate statues.', '\"Elizabeth Warren lied when she says I want to abolish the Federal Minimum Wage.\"', 'Former first daughter Malia Obama founded a website intended to discredit President Donald Trump.', 'The unemployment rate may be as high as \"42 percent.\"', '\"There are 30,000 people that have been killed with seat belts.\"', \"Law enforcement's search for a prolific counterfeiter of one-dollar bills lasted ten years.\", 'Trey Gowdy was forced into protective custody after two people investigating Hillary Clinton went missing.', 'The IKEA furniture chain is selling a swastika-shaped table.', 'Anonymous has discovered evidence that numerous politicians have Ku Klux Klan connections.', 'Terrorism and terrorist attacks in the United States and Europe have \"gotten to a point where it\\'s not even being reported.\"', 'Cold Stone Creamery is giving free or discounted ice cream to female customers that appear to be pregnant.', '\"The Simpsons\" depicted that President Donald Trump would touch a glowing orb fifteen years before he actually did so during a trip to the Middle East.', '\"What is the proper collective noun for a group of baboons? Believe it or not . . . a Congress!', \"Dr. Jaleel Kohmeni refused to treat a dying man on a flight from New York to Las Vegas, on the basis of the man's Christian faith.\", 'An unknown third party whispered the word \"dozens\" to Hillary Clinton during the third presidential debate.', 'After his release from prison, Brock Turner was beaten by a dildo-wielding flash mob.', '\"Over the last 40 years, this country’s prison population has grown by 500 percent.\"', '\"Texas has 600,000 registered voters who don’t have the kind of photo ID needed to vote.\"', 'Jellyfish and lobsters are considered biologically immortal, meaning they don’t age and will never die unless they are killed.', 'A Toronto lawyer demonstrating the safety of window panes in a skyscraper plunged through a window to his death.', 'United States health care facilities face an intravenous bag shortage because of the devastation wreaked by Hurricane Maria in September 2017.', 'A photograph shows the Clintons posing with Palestinian leader Yasser Arafat.', '\"North Carolina\\'s teacher income is rising faster than any other state.\"', 'Says that \"along the southern border of the U.S.,\" the government apprehends \"seven individuals a day who are either known or suspected terrorists.\"', 'Hillary Clinton was found dead in May 2017.', '“Under #ACA, everyone’s insurance got upgraded & most can find a plan on the marketplace for $75/month or less.”', \"Hillary Clinton's assistant J.W. McGill was found dead after suffering an apparent heart attack.\", 'A photograph shows \"the world\\'s cutest rodent,\" a Baluchistan pygmy jerboa.', \"A photograph shows a 'water bending' squirrel.\", '“Despite winning the second debate in a landslide (every poll), it is hard to do well when Paul Ryan and others give zero support!”', '\"If you look worldwide, the number of terrorist incidents have not substantially increased.\"', 'Disney has removed  items featuring Piglet from their stores due to pressure from the Muslim community.', 'Iran has received \"about $3 billion\" from the nuclear deal', 'Vermont had to \"scrap\" its single-payer health insurance program because it was \"going bankrupt.\"', 'The Hampton United Methodist Church called Donald Trump a pervert, a con artist, and a fascist on their church sign.', '\"I think what the authors of the (25th) Amendment principally had in mind was some kind of physical incapacitation or serious mental illness or a breakdown, an inability to function in office.\"', 'Charmin had introduced a Pumpkin Spice variety of toilet paper.', 'Actor Nicolas Cage died in a motorcycle accident in July 2016.', 'A video tells the true story of a little girl named Chloe Jones who was abducted after getting on the wrong school bus.', 'A video shows a bolt of lightning striking a river, sparking a large explosion.', 'Under the Republican tax bill, President Donald Trump \"and his family would walk off with more than a billion dollars personally.\"', '\"One detainee [Khalid Sheik Mohammed] alone was subjected to waterboarding 183 times.”', 'A picture of a man with his head split open documents the effect of marijuana use.', '\"United Technologies and Carrier stepped it up and now they’re keeping — actually the number’s over 1,100 people, which is so great.\"', 'A clown was arrested after police found eleven human bodies stuffed in a freezer at his residence.', 'A \"Lucky Charms Frosted Flakes\" cereal will soon be available.', '\"Not one penny of (California’s Prop 67) bag ban tax goes to the environment.\"', '\"The vast majority of marketplace enrollees have experienced no average premium hike at all.\"', 'Victoria Woodhull, not Hillary Clinton, was the first female presidential nominee.', 'Muslim nurses now have the \"option of participating in medical operations without washing their hands.\"', '\"NFL lawyer, who claimed Super Bowl is ‘rigged’, found dead.\"', '\"No other country has a constitutional right\" like the Second Amendment.', 'President Barack Obama attended  “an Islamic madrassa.”', 'The Southern Poverty Law Center is a \"left-wing smear group\" that incites hatred and violence against conservatives.', 'The Reverend Billy Graham issued a surprising statement in support of Donald Trump.', '\"Nearly 3 in 4 individuals convicted of terrorism-related charges are foreign-born.\"', 'Miami-Dade is \"the first community in the world to break the cycle of local transmission of the Zika virus.\"', 'A tradition of celebrating Veterans Day with ravioli dinners was initiated by President Woodrow Wilson in 1919.', 'There are \"no-go zones\" in Sweden where the police can\\'t enter.', 'Instructions explain how to block Facebook users who are following you without your knowledge.', '\"British Intelligence Seizes Clinton Foundation Warehouse, $400 Million In Cash.\"', '\"No federal official at any level is currently allowed to say ‘Merry Christmas.’\"', 'During his campaign for president, Donald Trump \"committed to honoring states\\' rights when it comes to marijuana legalization.\"', 'Says Barack Obama \"didn’t do executive orders in the beginning.\"', 'Three poll workers in Birmingham were arrested for voter fraud in connection with the special Alabama Senate election.', '“Iran’s supreme leader has issued a fatwa against the development of nuclear weapons.”', 'Most refugees are young adult males.', 'Says Tim Burns and Rebecca Dallet \"have openly criticized laws signed by Governor Walker that they disagree with and are campaigning as activists who will implement their policies from the bench.\"', 'A forthcoming Russian reality show called \"Game2: Winter\" will permit contestants to commit crimes, including rape and murder.', 'Because of the failure to pass a repeal bill, \"Obamacare remains the law of the land ... This means more than 300,000 Georgians below the poverty line will still not have access to the insurance Obamacare promised.\"', 'Strange circular clouds formed over Israel shortly after Donald Trump won the 2016 presidential election.', '\"I have been much tougher on Russia than Obama, just look at the facts. Total Fake News!\"', 'Australian officials are deploying a genetically-modified vaccine aerially without consent from residents.', 'NFL players did not stand for the national anthem until the Defense Dept. started paying the league to stage patriotic displays in 2009.', '\"Soros, Obama and the Dems Ordered the Shutdown to Stage a Coup\"', 'The Trump International Hotel in Washington D.C. handed out flyers promoting an anti-CNN petition to guests at check-in.', 'In August 2017, the Texas House of Representatives passed a bill that would force women to purchase \"rape insurance.\"', 'In just over a year, more than sixty holistic health practitioners have died suspicious deaths, and the media refuses to acknowledge that these deaths might be linked.', '\"The same 3 senators who have spent the last 3 years s------- themselves over ‘Benghazi!’ just introduced a bill to reduce embassy security by 50 percent.\"', 'Keanu Reeves lamented the objectification of women in an uncharacteristic way.', 'A Detroit firefighter was fired for behavior deemed offensive and racially insensitive after bringing a watermelon to work on his first day on the job.', \"President Trump exempted Ivanka Trump's clothing line from tariffs on Chinese imports.\", \"Mike Pence was recaptured after he attempted to escape from Donald Trump's campaign bus.\", 'A heavily pregnant woman was beaten by a Muslim refugee in Oklahoma.', '\"Facts have come to light that indicate that a pivotal, close election was likely changed through voter fraud on November 8, 2016: New Hampshire’s U.S. Senate Seat, and perhaps also New Hampshire’s four Electoral College votes in the presidential election.\"', 'Photograph shows a masked partygoer who killed seven people on Halloween 1962.', 'The name of Boxing Day comes from the need to rid the house of empty boxes the day after Christmas', \"A browser extension can eliminate all mention of Donald Trump from a user's online experience.\", 'A Republican candidate for U.S. Senate for Missouri, Courtland Sykes, said he \"supports women’s rights\" but not if that means women become \"career obsessed banshees who forego home life and children and the happiness of family to become nail-biting manophobic hell-bent feminist she devils.\"', 'British voters \"under 50, especially millennials, overwhelmingly voted to stay,\" in the European Union. \"It was older voters who voted to leave.\"', \"The Tim Allen show 'Last Man Standing' was cancelled due to the star's political beliefs.\", 'A local identification card program in Chicago would allow undocumented immigrants to vote in United States elections.', 'Photographs show watermelons that have been grown in such a way as to force them into square shapes.', 'Says Melania Trump’s security detail at Trump Tower costs more than the annual budget for the National Endowment for the Arts.', 'MIT offers a \"pirate certificate\" to students who complete four physical education courses.', '\"If you pass the so-called Dream Act, it will be the single biggest amnesty in the history of the United States, even bigger than the 1986 amnesty.\"', 'There is a secret Obama administration plan for a federal takeover of local police forces via Justice Department consent decrees.', 'DNC staffer Seth Rich \"apparently was assassinated at 4 in the morning, having given WikiLeaks something like 53,000 emails and 17,000 attachments. ... It turns out, it wasn’t the Russians.\"', \"Says Donald Trump “doesn't believe in equal pay.”\", 'Donald Trump donated Play-Doh brand modeling clay to Louisiana flood victims.', 'Legends about the first Thanksgiving.', 'An asteroid will hit earth on Christmas Eve.', 'Photograph shows a protester face-to-face with an NYPD officer.', 'Terrorists have acquired a large number of \"missing\" UPS uniforms.']\n"
     ]
    }
   ],
   "source": [
    "print(claims_list)"
   ]
  },
  {
   "cell_type": "code",
   "execution_count": 9,
   "metadata": {},
   "outputs": [
    {
     "name": "stdout",
     "output_type": "stream",
     "text": [
      "4.424698114395142\n"
     ]
    }
   ],
   "source": [
    "import time\n",
    "\n",
    "start_time = time.time()\n",
    "processed_claims = process_claim_list(claims_list)\n",
    "print(time.time() - start_time)"
   ]
  },
  {
   "cell_type": "code",
   "execution_count": 10,
   "metadata": {},
   "outputs": [],
   "source": [
    "import pickle\n",
    "\n",
    "with open('processed_claims.pickle', 'wb') as f:\n",
    "    # Pickle the 'data' dictionary using the highest protocol available.\n",
    "    pickle.dump(processed_claims, f, pickle.HIGHEST_PROTOCOL)"
   ]
  },
  {
   "cell_type": "code",
   "execution_count": 8,
   "metadata": {},
   "outputs": [],
   "source": [
    "# # to load\n",
    "# with open('processed_claims.pickle', 'rb') as f:\n",
    "#     # The protocol version used is detected automatically, so we do not\n",
    "#     # have to specify it.\n",
    "#     processed_claims = pickle.load(f)"
   ]
  },
  {
   "cell_type": "code",
   "execution_count": null,
   "metadata": {},
   "outputs": [],
   "source": []
  }
 ],
 "metadata": {
  "kernelspec": {
   "display_name": "Python [conda env:ner]",
   "language": "python",
   "name": "conda-env-ner-py"
  },
  "language_info": {
   "codemirror_mode": {
    "name": "ipython",
    "version": 3
   },
   "file_extension": ".py",
   "mimetype": "text/x-python",
   "name": "python",
   "nbconvert_exporter": "python",
   "pygments_lexer": "ipython3",
   "version": "3.6.6"
  }
 },
 "nbformat": 4,
 "nbformat_minor": 2
}
